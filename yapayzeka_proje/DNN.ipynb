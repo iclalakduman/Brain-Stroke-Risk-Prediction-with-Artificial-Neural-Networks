{
  "nbformat": 4,
  "nbformat_minor": 0,
  "metadata": {
    "colab": {
      "provenance": []
    },
    "kernelspec": {
      "name": "python3",
      "display_name": "Python 3"
    },
    "language_info": {
      "name": "python"
    }
  },
  "cells": [
    {
      "cell_type": "code",
      "execution_count": null,
      "metadata": {
        "colab": {
          "base_uri": "https://localhost:8080/",
          "height": 73
        },
        "id": "awgZ8yaQmlU2",
        "outputId": "e69eb92c-8bab-41a9-f691-d6646bbfb583"
      },
      "outputs": [
        {
          "output_type": "display_data",
          "data": {
            "text/plain": [
              "<IPython.core.display.HTML object>"
            ],
            "text/html": [
              "\n",
              "     <input type=\"file\" id=\"files-123265a8-8584-4cd7-b601-59ed7c0d39a2\" name=\"files[]\" multiple disabled\n",
              "        style=\"border:none\" />\n",
              "     <output id=\"result-123265a8-8584-4cd7-b601-59ed7c0d39a2\">\n",
              "      Upload widget is only available when the cell has been executed in the\n",
              "      current browser session. Please rerun this cell to enable.\n",
              "      </output>\n",
              "      <script>// Copyright 2017 Google LLC\n",
              "//\n",
              "// Licensed under the Apache License, Version 2.0 (the \"License\");\n",
              "// you may not use this file except in compliance with the License.\n",
              "// You may obtain a copy of the License at\n",
              "//\n",
              "//      http://www.apache.org/licenses/LICENSE-2.0\n",
              "//\n",
              "// Unless required by applicable law or agreed to in writing, software\n",
              "// distributed under the License is distributed on an \"AS IS\" BASIS,\n",
              "// WITHOUT WARRANTIES OR CONDITIONS OF ANY KIND, either express or implied.\n",
              "// See the License for the specific language governing permissions and\n",
              "// limitations under the License.\n",
              "\n",
              "/**\n",
              " * @fileoverview Helpers for google.colab Python module.\n",
              " */\n",
              "(function(scope) {\n",
              "function span(text, styleAttributes = {}) {\n",
              "  const element = document.createElement('span');\n",
              "  element.textContent = text;\n",
              "  for (const key of Object.keys(styleAttributes)) {\n",
              "    element.style[key] = styleAttributes[key];\n",
              "  }\n",
              "  return element;\n",
              "}\n",
              "\n",
              "// Max number of bytes which will be uploaded at a time.\n",
              "const MAX_PAYLOAD_SIZE = 100 * 1024;\n",
              "\n",
              "function _uploadFiles(inputId, outputId) {\n",
              "  const steps = uploadFilesStep(inputId, outputId);\n",
              "  const outputElement = document.getElementById(outputId);\n",
              "  // Cache steps on the outputElement to make it available for the next call\n",
              "  // to uploadFilesContinue from Python.\n",
              "  outputElement.steps = steps;\n",
              "\n",
              "  return _uploadFilesContinue(outputId);\n",
              "}\n",
              "\n",
              "// This is roughly an async generator (not supported in the browser yet),\n",
              "// where there are multiple asynchronous steps and the Python side is going\n",
              "// to poll for completion of each step.\n",
              "// This uses a Promise to block the python side on completion of each step,\n",
              "// then passes the result of the previous step as the input to the next step.\n",
              "function _uploadFilesContinue(outputId) {\n",
              "  const outputElement = document.getElementById(outputId);\n",
              "  const steps = outputElement.steps;\n",
              "\n",
              "  const next = steps.next(outputElement.lastPromiseValue);\n",
              "  return Promise.resolve(next.value.promise).then((value) => {\n",
              "    // Cache the last promise value to make it available to the next\n",
              "    // step of the generator.\n",
              "    outputElement.lastPromiseValue = value;\n",
              "    return next.value.response;\n",
              "  });\n",
              "}\n",
              "\n",
              "/**\n",
              " * Generator function which is called between each async step of the upload\n",
              " * process.\n",
              " * @param {string} inputId Element ID of the input file picker element.\n",
              " * @param {string} outputId Element ID of the output display.\n",
              " * @return {!Iterable<!Object>} Iterable of next steps.\n",
              " */\n",
              "function* uploadFilesStep(inputId, outputId) {\n",
              "  const inputElement = document.getElementById(inputId);\n",
              "  inputElement.disabled = false;\n",
              "\n",
              "  const outputElement = document.getElementById(outputId);\n",
              "  outputElement.innerHTML = '';\n",
              "\n",
              "  const pickedPromise = new Promise((resolve) => {\n",
              "    inputElement.addEventListener('change', (e) => {\n",
              "      resolve(e.target.files);\n",
              "    });\n",
              "  });\n",
              "\n",
              "  const cancel = document.createElement('button');\n",
              "  inputElement.parentElement.appendChild(cancel);\n",
              "  cancel.textContent = 'Cancel upload';\n",
              "  const cancelPromise = new Promise((resolve) => {\n",
              "    cancel.onclick = () => {\n",
              "      resolve(null);\n",
              "    };\n",
              "  });\n",
              "\n",
              "  // Wait for the user to pick the files.\n",
              "  const files = yield {\n",
              "    promise: Promise.race([pickedPromise, cancelPromise]),\n",
              "    response: {\n",
              "      action: 'starting',\n",
              "    }\n",
              "  };\n",
              "\n",
              "  cancel.remove();\n",
              "\n",
              "  // Disable the input element since further picks are not allowed.\n",
              "  inputElement.disabled = true;\n",
              "\n",
              "  if (!files) {\n",
              "    return {\n",
              "      response: {\n",
              "        action: 'complete',\n",
              "      }\n",
              "    };\n",
              "  }\n",
              "\n",
              "  for (const file of files) {\n",
              "    const li = document.createElement('li');\n",
              "    li.append(span(file.name, {fontWeight: 'bold'}));\n",
              "    li.append(span(\n",
              "        `(${file.type || 'n/a'}) - ${file.size} bytes, ` +\n",
              "        `last modified: ${\n",
              "            file.lastModifiedDate ? file.lastModifiedDate.toLocaleDateString() :\n",
              "                                    'n/a'} - `));\n",
              "    const percent = span('0% done');\n",
              "    li.appendChild(percent);\n",
              "\n",
              "    outputElement.appendChild(li);\n",
              "\n",
              "    const fileDataPromise = new Promise((resolve) => {\n",
              "      const reader = new FileReader();\n",
              "      reader.onload = (e) => {\n",
              "        resolve(e.target.result);\n",
              "      };\n",
              "      reader.readAsArrayBuffer(file);\n",
              "    });\n",
              "    // Wait for the data to be ready.\n",
              "    let fileData = yield {\n",
              "      promise: fileDataPromise,\n",
              "      response: {\n",
              "        action: 'continue',\n",
              "      }\n",
              "    };\n",
              "\n",
              "    // Use a chunked sending to avoid message size limits. See b/62115660.\n",
              "    let position = 0;\n",
              "    do {\n",
              "      const length = Math.min(fileData.byteLength - position, MAX_PAYLOAD_SIZE);\n",
              "      const chunk = new Uint8Array(fileData, position, length);\n",
              "      position += length;\n",
              "\n",
              "      const base64 = btoa(String.fromCharCode.apply(null, chunk));\n",
              "      yield {\n",
              "        response: {\n",
              "          action: 'append',\n",
              "          file: file.name,\n",
              "          data: base64,\n",
              "        },\n",
              "      };\n",
              "\n",
              "      let percentDone = fileData.byteLength === 0 ?\n",
              "          100 :\n",
              "          Math.round((position / fileData.byteLength) * 100);\n",
              "      percent.textContent = `${percentDone}% done`;\n",
              "\n",
              "    } while (position < fileData.byteLength);\n",
              "  }\n",
              "\n",
              "  // All done.\n",
              "  yield {\n",
              "    response: {\n",
              "      action: 'complete',\n",
              "    }\n",
              "  };\n",
              "}\n",
              "\n",
              "scope.google = scope.google || {};\n",
              "scope.google.colab = scope.google.colab || {};\n",
              "scope.google.colab._files = {\n",
              "  _uploadFiles,\n",
              "  _uploadFilesContinue,\n",
              "};\n",
              "})(self);\n",
              "</script> "
            ]
          },
          "metadata": {}
        },
        {
          "output_type": "stream",
          "name": "stdout",
          "text": [
            "Saving brain_stroke.csv to brain_stroke.csv\n"
          ]
        }
      ],
      "source": [
        "from google.colab import files\n",
        "uploaded = files.upload()"
      ]
    },
    {
      "cell_type": "code",
      "source": [
        "import numpy as np\n",
        "import pandas as pd"
      ],
      "metadata": {
        "id": "0KjDAcOhmtLh"
      },
      "execution_count": null,
      "outputs": []
    },
    {
      "cell_type": "code",
      "source": [
        "df = pd.read_csv(\"brain_stroke.csv\")"
      ],
      "metadata": {
        "id": "yl4lIv7Lm3zZ"
      },
      "execution_count": null,
      "outputs": []
    },
    {
      "cell_type": "code",
      "source": [
        "from sklearn.model_selection import train_test_split\n",
        "from sklearn.preprocessing import LabelEncoder\n",
        "from keras.models import Sequential\n",
        "from keras.layers import Dense, Dropout\n",
        "from sklearn.preprocessing import RobustScaler"
      ],
      "metadata": {
        "id": "xMUwKOFwm6wV"
      },
      "execution_count": null,
      "outputs": []
    },
    {
      "cell_type": "code",
      "source": [
        "label_encoder = LabelEncoder()\n",
        "df['gender'] = label_encoder.fit_transform(df['gender'])\n",
        "df['ever_married'] = label_encoder.fit_transform(df['ever_married'])\n",
        "df['work_type'] = label_encoder.fit_transform(df['work_type'])\n",
        "df['Residence_type'] = label_encoder.fit_transform(df['Residence_type'])\n",
        "df['smoking_status'] = label_encoder.fit_transform(df['smoking_status'])"
      ],
      "metadata": {
        "id": "6UJr80vxnOUZ"
      },
      "execution_count": null,
      "outputs": []
    },
    {
      "cell_type": "code",
      "source": [
        "X = df.drop(\"stroke\", axis=1)\n",
        "y = df[\"stroke\"]"
      ],
      "metadata": {
        "id": "Y3UZbMB6nUv-"
      },
      "execution_count": null,
      "outputs": []
    },
    {
      "cell_type": "code",
      "source": [
        "X_train, X_test, y_train, y_test = train_test_split(X, y, test_size=0.25, random_state=42)"
      ],
      "metadata": {
        "id": "_o5f-7MinX0t"
      },
      "execution_count": null,
      "outputs": []
    },
    {
      "cell_type": "code",
      "source": [
        "robust = RobustScaler()\n",
        "X_train_scaled = robust.fit_transform(X_train)\n",
        "X_test_scaled = robust.transform(X_test)"
      ],
      "metadata": {
        "id": "VDrq5PD-19h0"
      },
      "execution_count": null,
      "outputs": []
    },
    {
      "cell_type": "code",
      "source": [
        "model = Sequential()\n",
        "model.add(Dense(32, activation='relu', input_shape=(X_train_scaled.shape[1], )))\n",
        "model.add(Dropout(0.2))\n",
        "model.add(Dense(16, activation='relu'))\n",
        "model.add(Dropout(0.2))\n",
        "model.add(Dense(4, activation='relu'))\n",
        "model.add(Dropout(0.2))\n",
        "model.add(Dense(1, activation='sigmoid'))"
      ],
      "metadata": {
        "id": "KSVdR8bSAcFv"
      },
      "execution_count": null,
      "outputs": []
    },
    {
      "cell_type": "code",
      "source": [
        "model.compile(optimizer='adam', loss='binary_crossentropy', metrics=['accuracy'])"
      ],
      "metadata": {
        "id": "Yo-PgjadBaD6"
      },
      "execution_count": null,
      "outputs": []
    },
    {
      "cell_type": "code",
      "source": [
        "model.fit(X_train_scaled, y_train, epochs=30, batch_size=32, validation_split=0.2)"
      ],
      "metadata": {
        "colab": {
          "base_uri": "https://localhost:8080/"
        },
        "id": "tNg_D7DUB9aZ",
        "outputId": "63188df5-0630-4fee-8863-82e1ccdfd81e"
      },
      "execution_count": null,
      "outputs": [
        {
          "output_type": "stream",
          "name": "stdout",
          "text": [
            "Epoch 1/30\n",
            "94/94 [==============================] - 6s 8ms/step - loss: 0.5006 - accuracy: 0.9491 - val_loss: 0.2314 - val_accuracy: 0.9531\n",
            "Epoch 2/30\n",
            "94/94 [==============================] - 0s 5ms/step - loss: 0.2560 - accuracy: 0.9518 - val_loss: 0.1892 - val_accuracy: 0.9531\n",
            "Epoch 3/30\n",
            "94/94 [==============================] - 1s 7ms/step - loss: 0.2400 - accuracy: 0.9518 - val_loss: 0.1892 - val_accuracy: 0.9531\n",
            "Epoch 4/30\n",
            "94/94 [==============================] - 1s 7ms/step - loss: 0.2287 - accuracy: 0.9518 - val_loss: 0.1892 - val_accuracy: 0.9531\n",
            "Epoch 5/30\n",
            "94/94 [==============================] - 1s 7ms/step - loss: 0.2273 - accuracy: 0.9518 - val_loss: 0.1892 - val_accuracy: 0.9531\n",
            "Epoch 6/30\n",
            "94/94 [==============================] - 1s 6ms/step - loss: 0.2241 - accuracy: 0.9518 - val_loss: 0.1892 - val_accuracy: 0.9531\n",
            "Epoch 7/30\n",
            "94/94 [==============================] - 1s 6ms/step - loss: 0.2146 - accuracy: 0.9518 - val_loss: 0.1896 - val_accuracy: 0.9531\n",
            "Epoch 8/30\n",
            "94/94 [==============================] - 1s 6ms/step - loss: 0.2245 - accuracy: 0.9518 - val_loss: 0.1892 - val_accuracy: 0.9531\n",
            "Epoch 9/30\n",
            "94/94 [==============================] - 1s 6ms/step - loss: 0.2167 - accuracy: 0.9518 - val_loss: 0.1898 - val_accuracy: 0.9531\n",
            "Epoch 10/30\n",
            "94/94 [==============================] - 1s 6ms/step - loss: 0.2146 - accuracy: 0.9518 - val_loss: 0.1892 - val_accuracy: 0.9531\n",
            "Epoch 11/30\n",
            "94/94 [==============================] - 1s 6ms/step - loss: 0.2170 - accuracy: 0.9518 - val_loss: 0.1893 - val_accuracy: 0.9531\n",
            "Epoch 12/30\n",
            "94/94 [==============================] - 1s 13ms/step - loss: 0.2268 - accuracy: 0.9518 - val_loss: 0.1894 - val_accuracy: 0.9531\n",
            "Epoch 13/30\n",
            "94/94 [==============================] - 1s 8ms/step - loss: 0.2158 - accuracy: 0.9518 - val_loss: 0.1892 - val_accuracy: 0.9531\n",
            "Epoch 14/30\n",
            "94/94 [==============================] - 1s 12ms/step - loss: 0.2234 - accuracy: 0.9518 - val_loss: 0.1893 - val_accuracy: 0.9531\n",
            "Epoch 15/30\n",
            "94/94 [==============================] - 1s 9ms/step - loss: 0.2167 - accuracy: 0.9518 - val_loss: 0.1892 - val_accuracy: 0.9531\n",
            "Epoch 16/30\n",
            "94/94 [==============================] - 1s 9ms/step - loss: 0.2197 - accuracy: 0.9518 - val_loss: 0.1900 - val_accuracy: 0.9531\n",
            "Epoch 17/30\n",
            "94/94 [==============================] - 1s 8ms/step - loss: 0.2141 - accuracy: 0.9518 - val_loss: 0.1891 - val_accuracy: 0.9531\n",
            "Epoch 18/30\n",
            "94/94 [==============================] - 1s 6ms/step - loss: 0.2116 - accuracy: 0.9518 - val_loss: 0.1894 - val_accuracy: 0.9531\n",
            "Epoch 19/30\n",
            "94/94 [==============================] - 1s 6ms/step - loss: 0.2186 - accuracy: 0.9518 - val_loss: 0.1891 - val_accuracy: 0.9531\n",
            "Epoch 20/30\n",
            "94/94 [==============================] - 1s 6ms/step - loss: 0.2161 - accuracy: 0.9518 - val_loss: 0.1896 - val_accuracy: 0.9531\n",
            "Epoch 21/30\n",
            "94/94 [==============================] - 1s 6ms/step - loss: 0.2168 - accuracy: 0.9518 - val_loss: 0.1892 - val_accuracy: 0.9531\n",
            "Epoch 22/30\n",
            "94/94 [==============================] - 1s 7ms/step - loss: 0.2129 - accuracy: 0.9518 - val_loss: 0.1898 - val_accuracy: 0.9531\n",
            "Epoch 23/30\n",
            "94/94 [==============================] - 1s 6ms/step - loss: 0.2110 - accuracy: 0.9518 - val_loss: 0.1892 - val_accuracy: 0.9531\n",
            "Epoch 24/30\n",
            "94/94 [==============================] - 1s 7ms/step - loss: 0.2095 - accuracy: 0.9518 - val_loss: 0.1899 - val_accuracy: 0.9531\n",
            "Epoch 25/30\n",
            "94/94 [==============================] - 1s 6ms/step - loss: 0.2083 - accuracy: 0.9518 - val_loss: 0.1891 - val_accuracy: 0.9531\n",
            "Epoch 26/30\n",
            "94/94 [==============================] - 0s 5ms/step - loss: 0.2056 - accuracy: 0.9518 - val_loss: 0.1892 - val_accuracy: 0.9531\n",
            "Epoch 27/30\n",
            "94/94 [==============================] - 0s 5ms/step - loss: 0.2085 - accuracy: 0.9518 - val_loss: 0.1894 - val_accuracy: 0.9531\n",
            "Epoch 28/30\n",
            "94/94 [==============================] - 1s 5ms/step - loss: 0.2063 - accuracy: 0.9518 - val_loss: 0.1897 - val_accuracy: 0.9531\n",
            "Epoch 29/30\n",
            "94/94 [==============================] - 1s 6ms/step - loss: 0.2075 - accuracy: 0.9518 - val_loss: 0.1892 - val_accuracy: 0.9531\n",
            "Epoch 30/30\n",
            "94/94 [==============================] - 1s 8ms/step - loss: 0.2114 - accuracy: 0.9518 - val_loss: 0.1902 - val_accuracy: 0.9531\n"
          ]
        },
        {
          "output_type": "execute_result",
          "data": {
            "text/plain": [
              "<keras.src.callbacks.History at 0x7dd36ea67be0>"
            ]
          },
          "metadata": {},
          "execution_count": 27
        }
      ]
    },
    {
      "cell_type": "code",
      "source": [
        "acc = model.evaluate(X_test_scaled, y_test)"
      ],
      "metadata": {
        "colab": {
          "base_uri": "https://localhost:8080/"
        },
        "id": "jPZmKObjSmz4",
        "outputId": "3ba6633b-ec48-4c0c-b7ae-409bbe1a5bf8"
      },
      "execution_count": null,
      "outputs": [
        {
          "output_type": "stream",
          "name": "stdout",
          "text": [
            "39/39 [==============================] - 0s 2ms/step - loss: 0.2141 - accuracy: 0.9446\n"
          ]
        }
      ]
    }
  ]
}